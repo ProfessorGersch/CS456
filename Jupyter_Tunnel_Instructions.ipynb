{
 "cells": [
  {
   "cell_type": "markdown",
   "metadata": {},
   "source": [
    "<center><h1> How to use a jupyter notebook <br />running on CS lab machines <br />to a web browser on your local laptop <br />using an SSH Tunnel</h1></center>\n",
    "\n",
    "<br />\n",
    "\n",
    "<center>Written by Dr. Joseph Gersch with much thanks to our SNA, Abhimanyu Chawla, for teaching me how to do this.\n",
    "</center>"
   ]
  },
  {
   "cell_type": "markdown",
   "metadata": {},
   "source": [
    "----\n",
    "\n",
    "**First, you will need to open 2 terminal windows (or tabs) running on your local laptop.**\n",
    "\n",
    "**Step 1:** in first terminal window: login, cd to the directory containing your lab files, then start jupyter.\n",
    "\n",
    "* Use your real username and a real cs machine such as \"albany\"\n",
    "\n",
    "* Use any random port in the range 1024 to 32655\n",
    "\n",
    ">```\n",
    "ssh username@albany.cs.colostate.edu\n",
    "cd myjupyterlabs\n",
    "jupyter-notebook --no-browser --port=9090\n",
    "```\n",
    "\n",
    "You will get a response similar to the following:\n",
    "\n",
    "```\n",
    "[I 11:49:52.583 NotebookApp] Serving notebooks from local directory: /s/bach/b/class/cs456/public_html\n",
    "[I 11:49:52.583 NotebookApp] The Jupyter Notebook is running at:\n",
    "[I 11:49:52.583 NotebookApp] http://localhost:9090/?token=4bbcd16de16d84027d0aa23c7cf131a0557e3db63c6fa613\n",
    "[I 11:49:52.583 NotebookApp]  or http://127.0.0.1:9090/?token=4bbcd16de16d84027d0aa23c7cf131a0557e3db63c6fa613\n",
    "[I 11:49:52.583 NotebookApp] Use Control-C to stop this server and shut down all kernels (twice to skip confirmation).\n",
    "[C 11:49:52.594 NotebookApp] \n",
    "    \n",
    "    To access the notebook, open this file in a browser:\n",
    "        file:///s/bach/b/class/cs456/.local/share/jupyter/runtime/nbserver-761741-open.html\n",
    "    Or copy and paste one of these URLs:\n",
    "        http://localhost:9090/?token=4bbcd16de16d84027d0aa23c7cf131a0557e3db63c6fa613\n",
    "     or http://127.0.0.1:9090/?token=4bbcd16de16d84027d0aa23c7cf131a0557e3db63c6fa613\n",
    "```\n",
    "\n"
   ]
  },
  {
   "cell_type": "markdown",
   "metadata": {},
   "source": [
    "----\n",
    "**Step 2:** in the second terminal window, create an SSH tunnel using the same machine and port that you specified in step 1.\n",
    "\n",
    ">```\n",
    "ssh -N -L 9090:localhost:9090 cs456@albany.cs.colostate.edu\n",
    "```\n",
    "\n",
    "You won't get any output.\n"
   ]
  },
  {
   "cell_type": "markdown",
   "metadata": {},
   "source": [
    "----\n",
    "**Step 3:**  Open a browser window and start using Jupyter\n",
    "\n",
    "copy and paste the URL from step 1 into your browser window.  I prefer to use the localhost option, but they all should work.\n",
    "\n",
    ">http://localhost:9090/?token=4bbcd16de16d84027d0aa23c7cf131a0557e3db63c6fa613\n",
    "\n"
   ]
  },
  {
   "cell_type": "markdown",
   "metadata": {},
   "source": [
    "----\n",
    "**That's it**.  You should now have web page running jupyter.  You can choose a particular .ipynb file in the directory lising or create a new python3 notebook."
   ]
  }
 ],
 "metadata": {
  "kernelspec": {
   "display_name": "Python 3",
   "language": "python",
   "name": "python3"
  },
  "language_info": {
   "codemirror_mode": {
    "name": "ipython",
    "version": 3
   },
   "file_extension": ".py",
   "mimetype": "text/x-python",
   "name": "python",
   "nbconvert_exporter": "python",
   "pygments_lexer": "ipython3",
   "version": "3.7.6"
  }
 },
 "nbformat": 4,
 "nbformat_minor": 4
}
